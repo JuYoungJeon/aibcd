{
 "cells": [
  {
   "cell_type": "code",
   "execution_count": 10,
   "metadata": {},
   "outputs": [
    {
     "ename": "ValueError",
     "evalue": "could not broadcast input array from shape (0) into shape (50)",
     "output_type": "error",
     "traceback": [
      "\u001b[0;31m---------------------------------------------------------------------------\u001b[0m",
      "\u001b[0;31mValueError\u001b[0m                                Traceback (most recent call last)",
      "\u001b[0;32m<ipython-input-10-59605ca5c8cc>\u001b[0m in \u001b[0;36m<module>\u001b[0;34m()\u001b[0m\n\u001b[1;32m      8\u001b[0m     \u001b[0mzero_padding\u001b[0m\u001b[0;34m[\u001b[0m\u001b[0;36m0\u001b[0m\u001b[0;34m,\u001b[0m \u001b[0;34m:\u001b[0m\u001b[0mlength\u001b[0m\u001b[0;34m]\u001b[0m \u001b[0;34m=\u001b[0m \u001b[0mnp\u001b[0m\u001b[0;34m.\u001b[0m\u001b[0marray\u001b[0m\u001b[0;34m(\u001b[0m\u001b[0mseq\u001b[0m\u001b[0;34m)\u001b[0m\u001b[0;34m[\u001b[0m\u001b[0;34m:\u001b[0m\u001b[0mlength\u001b[0m\u001b[0;34m]\u001b[0m\u001b[0;34m\u001b[0m\u001b[0m\n\u001b[1;32m      9\u001b[0m \u001b[0;32melse\u001b[0m\u001b[0;34m:\u001b[0m\u001b[0;34m\u001b[0m\u001b[0m\n\u001b[0;32m---> 10\u001b[0;31m     \u001b[0mzero_padding\u001b[0m\u001b[0;34m[\u001b[0m\u001b[0;36m0\u001b[0m\u001b[0;34m,\u001b[0m\u001b[0;34m]\u001b[0m \u001b[0;34m=\u001b[0m \u001b[0mnp\u001b[0m\u001b[0;34m.\u001b[0m\u001b[0mappend\u001b[0m\u001b[0;34m(\u001b[0m\u001b[0mzero_padding\u001b[0m\u001b[0;34m[\u001b[0m\u001b[0;36m0\u001b[0m\u001b[0;34m,\u001b[0m\u001b[0;34m:\u001b[0m\u001b[0;34m-\u001b[0m\u001b[0mlength\u001b[0m\u001b[0;34m]\u001b[0m\u001b[0;34m,\u001b[0m \u001b[0mnp\u001b[0m\u001b[0;34m.\u001b[0m\u001b[0marray\u001b[0m\u001b[0;34m(\u001b[0m\u001b[0mseq\u001b[0m\u001b[0;34m)\u001b[0m\u001b[0;34m)\u001b[0m\u001b[0;34m\u001b[0m\u001b[0m\n\u001b[0m",
      "\u001b[0;31mValueError\u001b[0m: could not broadcast input array from shape (0) into shape (50)"
     ]
    }
   ],
   "source": [
    "import numpy as np\n",
    "max_length = 50\n",
    "zero_padding = np.zeros((20, max_length), dtype=np.int32)\n",
    "seq=[]\n",
    "length = len(seq)\n",
    "if length >= max_length:\n",
    "    length = max_length\n",
    "    zero_padding[0, :length] = np.array(seq)[:length]\n",
    "else:\n",
    "    zero_padding[0,] = np.append(zero_padding[0,:-length], np.array(seq))"
   ]
  },
  {
   "cell_type": "code",
   "execution_count": 28,
   "metadata": {},
   "outputs": [
    {
     "name": "stdout",
     "output_type": "stream",
     "text": [
      "3000dict\n"
     ]
    }
   ],
   "source": [
    "vocab_size = 3000\n",
    "dict_name = str(vocab_size)+'dict'\n",
    "print(dict_name)"
   ]
  },
  {
   "cell_type": "code",
   "execution_count": 39,
   "metadata": {},
   "outputs": [
    {
     "name": "stdout",
     "output_type": "stream",
     "text": [
      "Doc dict covers 300.00 words.\n"
     ]
    }
   ],
   "source": [
    "cover = 3\n",
    "print(\"Doc dict covers %.2f words.\"%(cover*100))"
   ]
  },
  {
   "cell_type": "code",
   "execution_count": 138,
   "metadata": {
    "collapsed": true
   },
   "outputs": [],
   "source": [
    "import re\n",
    "docs=['mv01242421완전 감동이었다.ㅠㅠ\\n','ac123493짱',\"ㅇㅇㅇㅇㅇㅇㅇ;ㅅ;\",\"^^..............\",\n",
    "     \"&#3452응\",'��요',\"정��에\"]"
   ]
  },
  {
   "cell_type": "code",
   "execution_count": 139,
   "metadata": {},
   "outputs": [
    {
     "name": "stdout",
     "output_type": "stream",
     "text": [
      "['완전 감동이었다.ㅠㅠ\\n', '짱', 'ㅇㅇㅇㅇㅇㅇㅇ;ㅅ;', '^^..............', '응', '요', '정에']\n",
      "<class 'list'>\n"
     ]
    }
   ],
   "source": [
    "replace=[]\n",
    "for i in docs:\n",
    "    replace.append(re.sub('(mv\\d{2,8})?(ac\\d{2,8})?(&#\\d{2,5})?(�*)?', '', str(i)))\n",
    "print(replace)\n",
    "print(type(replace))\n",
    "#rep = replace.split()\n",
    "#print(rep)"
   ]
  },
  {
   "cell_type": "code",
   "execution_count": 120,
   "metadata": {},
   "outputs": [
    {
     "name": "stdout",
     "output_type": "stream",
     "text": [
      "<class 'list'>\n"
     ]
    }
   ],
   "source": [
    "with open(\"../sample_data/movie_review/train/train_data\", 'rt', encoding=\"utf-8\") as docfile:\n",
    "    docs = docfile.readlines()\n",
    "print(type(docs))"
   ]
  },
  {
   "cell_type": "code",
   "execution_count": null,
   "metadata": {
    "collapsed": true
   },
   "outputs": [],
   "source": [
    "counter"
   ]
  },
  {
   "cell_type": "code",
   "execution_count": 122,
   "metadata": {
    "collapsed": true
   },
   "outputs": [],
   "source": [
    "counter={}\n",
    "for line in replace:\n",
    "    for word in line:\n",
    "        try:\n",
    "            counter[word] +=1\n",
    "        except:\n",
    "            counter[word] = 1"
   ]
  },
  {
   "cell_type": "code",
   "execution_count": 111,
   "metadata": {
    "collapsed": true
   },
   "outputs": [],
   "source": [
    "k = [\"['dkskdk','dislkjd']\",\"['hil','lisjd']\"]"
   ]
  },
  {
   "cell_type": "code",
   "execution_count": 127,
   "metadata": {},
   "outputs": [
    {
     "name": "stdout",
     "output_type": "stream",
     "text": [
      "['dkskdk','dislkjd']\n",
      "<class 'str'>\n",
      "['hil','lisjd']\n",
      "<class 'str'>\n"
     ]
    }
   ],
   "source": [
    "for i in k:\n",
    "    print(i)\n",
    "    print(type(i))"
   ]
  },
  {
   "cell_type": "code",
   "execution_count": 141,
   "metadata": {
    "collapsed": true
   },
   "outputs": [],
   "source": [
    "my_map = { 'a': 1, 'b':2 }\n",
    "inv_map = { 1: 'a', 2: 'b' }\n",
    "dics = [my_map, inv_map]"
   ]
  },
  {
   "cell_type": "code",
   "execution_count": 1,
   "metadata": {},
   "outputs": [],
   "source": [
    "import cdict\n",
    "dic = cdict.load_const_dic()"
   ]
  },
  {
   "cell_type": "code",
   "execution_count": 5,
   "metadata": {},
   "outputs": [
    {
     "name": "stdout",
     "output_type": "stream",
     "text": [
      "<class 'dict'>\n"
     ]
    }
   ],
   "source": [
    "print(type(dic))"
   ]
  }
 ],
 "metadata": {
  "kernelspec": {
   "display_name": "tfPython 3",
   "language": "python",
   "name": "tfkernel"
  },
  "language_info": {
   "codemirror_mode": {
    "name": "ipython",
    "version": 3
   },
   "file_extension": ".py",
   "mimetype": "text/x-python",
   "name": "python",
   "nbconvert_exporter": "python",
   "pygments_lexer": "ipython3",
   "version": "3.6.1"
  }
 },
 "nbformat": 4,
 "nbformat_minor": 2
}
